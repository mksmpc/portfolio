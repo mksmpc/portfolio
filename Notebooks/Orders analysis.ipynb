{
 "cells": [
  {
   "cell_type": "markdown",
   "id": "fbd3a67b",
   "metadata": {},
   "source": [
    "# Анализ заказов СберМаркета\n",
    "# Выполнил: Швецов Максим"
   ]
  },
  {
   "cell_type": "markdown",
   "id": "534f4eb5",
   "metadata": {},
   "source": [
    "## Подключение к БД"
   ]
  },
  {
   "cell_type": "code",
   "execution_count": 1,
   "id": "78a07938",
   "metadata": {},
   "outputs": [],
   "source": [
    "import pandas as pd\n",
    "import numpy as np\n",
    "import sqlalchemy as sa\n",
    "import matplotlib.pyplot as plt\n",
    "\n",
    "%matplotlib inline"
   ]
  },
  {
   "cell_type": "code",
   "execution_count": 2,
   "id": "9f6f1a4a",
   "metadata": {},
   "outputs": [],
   "source": [
    "cr = pd.read_json('credentials.json', typ = 'series')\n",
    "\n",
    "engine = sa.create_engine(\n",
    "    f'postgresql://{cr.user}:{cr.password}@{cr.host}:{cr.port}/{cr.dbname}')\n",
    "\n",
    "db = engine.connect()"
   ]
  },
  {
   "cell_type": "markdown",
   "id": "e7874544",
   "metadata": {},
   "source": [
    "### Тест подключения"
   ]
  },
  {
   "cell_type": "code",
   "execution_count": 3,
   "id": "09a1f7dd",
   "metadata": {
    "scrolled": false
   },
   "outputs": [
    {
     "data": {
      "text/html": [
       "<div>\n",
       "<style scoped>\n",
       "    .dataframe tbody tr th:only-of-type {\n",
       "        vertical-align: middle;\n",
       "    }\n",
       "\n",
       "    .dataframe tbody tr th {\n",
       "        vertical-align: top;\n",
       "    }\n",
       "\n",
       "    .dataframe thead th {\n",
       "        text-align: right;\n",
       "    }\n",
       "</style>\n",
       "<table border=\"1\" class=\"dataframe\">\n",
       "  <thead>\n",
       "    <tr style=\"text-align: right;\">\n",
       "      <th></th>\n",
       "      <th>id</th>\n",
       "      <th>user_id</th>\n",
       "      <th>total_cost</th>\n",
       "      <th>cost</th>\n",
       "      <th>item_total</th>\n",
       "      <th>promo_total</th>\n",
       "      <th>total_weight</th>\n",
       "      <th>total_quantity</th>\n",
       "      <th>state</th>\n",
       "      <th>shipped_at</th>\n",
       "      <th>created_at</th>\n",
       "      <th>ship_address_id</th>\n",
       "      <th>store_id</th>\n",
       "      <th>delivery_window_id</th>\n",
       "    </tr>\n",
       "  </thead>\n",
       "  <tbody>\n",
       "    <tr>\n",
       "      <th>0</th>\n",
       "      <td>756927</td>\n",
       "      <td>139676</td>\n",
       "      <td>0.0</td>\n",
       "      <td>0.0</td>\n",
       "      <td>5015</td>\n",
       "      <td>0.0</td>\n",
       "      <td>37708</td>\n",
       "      <td>39</td>\n",
       "      <td>shipped</td>\n",
       "      <td>2018-08-26 15:01:42</td>\n",
       "      <td>2018-08-26 02:06:55</td>\n",
       "      <td>888330</td>\n",
       "      <td>1</td>\n",
       "      <td>226459</td>\n",
       "    </tr>\n",
       "    <tr>\n",
       "      <th>1</th>\n",
       "      <td>756963</td>\n",
       "      <td>139682</td>\n",
       "      <td>0.0</td>\n",
       "      <td>0.0</td>\n",
       "      <td>7096</td>\n",
       "      <td>0.0</td>\n",
       "      <td>49435</td>\n",
       "      <td>71</td>\n",
       "      <td>shipped</td>\n",
       "      <td>2018-08-26 16:28:41</td>\n",
       "      <td>2018-08-26 05:43:20</td>\n",
       "      <td>888394</td>\n",
       "      <td>1</td>\n",
       "      <td>226460</td>\n",
       "    </tr>\n",
       "    <tr>\n",
       "      <th>2</th>\n",
       "      <td>756983</td>\n",
       "      <td>63967</td>\n",
       "      <td>299.0</td>\n",
       "      <td>299.0</td>\n",
       "      <td>2724</td>\n",
       "      <td>-250.0</td>\n",
       "      <td>11590</td>\n",
       "      <td>32</td>\n",
       "      <td>shipped</td>\n",
       "      <td>2018-08-26 15:09:11</td>\n",
       "      <td>2018-08-26 06:12:13</td>\n",
       "      <td>888420</td>\n",
       "      <td>1</td>\n",
       "      <td>226459</td>\n",
       "    </tr>\n",
       "    <tr>\n",
       "      <th>3</th>\n",
       "      <td>756985</td>\n",
       "      <td>139687</td>\n",
       "      <td>0.0</td>\n",
       "      <td>0.0</td>\n",
       "      <td>3471</td>\n",
       "      <td>0.0</td>\n",
       "      <td>9915</td>\n",
       "      <td>13</td>\n",
       "      <td>shipped</td>\n",
       "      <td>2018-08-26 18:57:01</td>\n",
       "      <td>2018-08-26 06:13:59</td>\n",
       "      <td>888422</td>\n",
       "      <td>1</td>\n",
       "      <td>226462</td>\n",
       "    </tr>\n",
       "    <tr>\n",
       "      <th>4</th>\n",
       "      <td>757066</td>\n",
       "      <td>119006</td>\n",
       "      <td>299.0</td>\n",
       "      <td>299.0</td>\n",
       "      <td>1254</td>\n",
       "      <td>0.0</td>\n",
       "      <td>15022</td>\n",
       "      <td>24</td>\n",
       "      <td>shipped</td>\n",
       "      <td>2018-08-26 13:46:48</td>\n",
       "      <td>2018-08-26 07:40:58</td>\n",
       "      <td>870688</td>\n",
       "      <td>1</td>\n",
       "      <td>226458</td>\n",
       "    </tr>\n",
       "  </tbody>\n",
       "</table>\n",
       "</div>"
      ],
      "text/plain": [
       "       id  user_id  total_cost   cost  item_total  promo_total  total_weight  \\\n",
       "0  756927   139676         0.0    0.0        5015          0.0         37708   \n",
       "1  756963   139682         0.0    0.0        7096          0.0         49435   \n",
       "2  756983    63967       299.0  299.0        2724       -250.0         11590   \n",
       "3  756985   139687         0.0    0.0        3471          0.0          9915   \n",
       "4  757066   119006       299.0  299.0        1254          0.0         15022   \n",
       "\n",
       "   total_quantity    state          shipped_at          created_at  \\\n",
       "0              39  shipped 2018-08-26 15:01:42 2018-08-26 02:06:55   \n",
       "1              71  shipped 2018-08-26 16:28:41 2018-08-26 05:43:20   \n",
       "2              32  shipped 2018-08-26 15:09:11 2018-08-26 06:12:13   \n",
       "3              13  shipped 2018-08-26 18:57:01 2018-08-26 06:13:59   \n",
       "4              24  shipped 2018-08-26 13:46:48 2018-08-26 07:40:58   \n",
       "\n",
       "   ship_address_id  store_id  delivery_window_id  \n",
       "0           888330         1              226459  \n",
       "1           888394         1              226460  \n",
       "2           888420         1              226459  \n",
       "3           888422         1              226462  \n",
       "4           870688         1              226458  "
      ]
     },
     "execution_count": 3,
     "metadata": {},
     "output_type": "execute_result"
    }
   ],
   "source": [
    "query = '''\n",
    "SELECT *\n",
    "  FROM orders\n",
    " LIMIT 5\n",
    "'''\n",
    "df = pd.read_sql(query,db)\n",
    "df.head()"
   ]
  },
  {
   "cell_type": "markdown",
   "id": "bdd38d59",
   "metadata": {},
   "source": [
    "---"
   ]
  },
  {
   "cell_type": "markdown",
   "id": "ff6aed3c",
   "metadata": {},
   "source": [
    "## Анализ роста количества заказов за весь период"
   ]
  },
  {
   "cell_type": "markdown",
   "id": "8a4b9ee0",
   "metadata": {},
   "source": [
    "### Посмотрим на динамику количества заказов по месяцам:"
   ]
  },
  {
   "cell_type": "code",
   "execution_count": 4,
   "id": "96ee521e",
   "metadata": {},
   "outputs": [],
   "source": [
    "query = '''\n",
    "SELECT to_char(DATE_TRUNC('month', created_at), 'YYYY-MM') AS date,\n",
    "       COUNT(*) AS orders_count\n",
    "  FROM orders\n",
    " GROUP BY date\n",
    " ORDER BY date\n",
    "'''\n",
    "df = pd.read_sql(query, db)"
   ]
  },
  {
   "cell_type": "code",
   "execution_count": 5,
   "id": "01d14ddb",
   "metadata": {
    "scrolled": false
   },
   "outputs": [
    {
     "data": {
      "text/plain": [
       "<AxesSubplot:ylabel='orders'>"
      ]
     },
     "execution_count": 5,
     "metadata": {},
     "output_type": "execute_result"
    },
    {
     "data": {
      "image/png": "[encoded data removed]",
      "text/plain": [
       "<Figure size 720x360 with 1 Axes>"
      ]
     },
     "metadata": {
      "needs_background": "light"
     },
     "output_type": "display_data"
    }
   ],
   "source": [
    "df.plot('date', 'orders_count', kind='bar', figsize=(10,5), legend=False, rot=40, ylabel='orders', xlabel='')"
   ]
  },
  {
   "cell_type": "markdown",
   "id": "5c2eea46",
   "metadata": {},
   "source": [
    "### И сразу построим график процентного отношения роста заказов текущего месяца к предыдущему:"
   ]
  },
  {
   "cell_type": "code",
   "execution_count": 6,
   "id": "a72eef73",
   "metadata": {
    "scrolled": true
   },
   "outputs": [
    {
     "data": {
      "text/plain": [
       "<AxesSubplot:ylabel='%'>"
      ]
     },
     "execution_count": 6,
     "metadata": {},
     "output_type": "execute_result"
    },
    {
     "data": {
      "image/png": "[encoded data removed]",
      "text/plain": [
       "<Figure size 720x288 with 1 Axes>"
      ]
     },
     "metadata": {
      "needs_background": "light"
     },
     "output_type": "display_data"
    }
   ],
   "source": [
    "df['orders_diff'] = (df.orders_count / df.orders_count.shift() - 1) * 100 \n",
    "\n",
    "df.plot('date', 'orders_diff', kind='bar', figsize=(10,4), legend=False, rot=40, ylabel='%', xlabel='', grid=True)"
   ]
  },
  {
   "cell_type": "markdown",
   "id": "9b8a4bdc",
   "metadata": {},
   "source": [
    "Зафиксируем четырёхкратный рост в сентябре 2018 и исключим его из графика для большей детализации."
   ]
  },
  {
   "cell_type": "code",
   "execution_count": 7,
   "id": "a124ebfb",
   "metadata": {},
   "outputs": [
    {
     "data": {
      "text/plain": [
       "<AxesSubplot:ylabel='%'>"
      ]
     },
     "execution_count": 7,
     "metadata": {},
     "output_type": "execute_result"
    },
    {
     "data": {
      "image/png": "[encoded data removed]",
      "text/plain": [
       "<Figure size 720x288 with 1 Axes>"
      ]
     },
     "metadata": {
      "needs_background": "light"
     },
     "output_type": "display_data"
    }
   ],
   "source": [
    "df.query('date > \"2018-09\"').plot('date', 'orders_diff', kind='bar', figsize=(10,4), legend=False, rot=40, ylabel='%', xlabel='', grid=True)"
   ]
  },
  {
   "cell_type": "markdown",
   "id": "23ee93bb",
   "metadata": {},
   "source": [
    "### На графиках прослеживаются определённые тенденции:\n",
    "\n",
    "1. Интенсивный рост в сентябре 2018\n",
    "2. Стабильный 20-ти процентный рост заказов начиная с марта 2019\n",
    "3. Заметное увеличение объёма заказов в период с сентября по ноябрь 2019\n",
    "4. Пик роста в ноябре 2019\n",
    "5. Просадка в декабре 2019\n",
    "\n",
    "### Попробуем разобраться, с чем они связаны:\n",
    "\n",
    "\n",
    "#### 1. Интенсивный рост в сентябре 2018  \n",
    "Тут наложились два фактора:  \n",
    "- Выход сервиса в регионы: [новость от 31 июля 2018][kazan]\n",
    "- Конец сезона отпусков\n",
    "   \n",
    "#### 2. Стабильный 20-ти процентный рост заказов начиная с марта 2019\n",
    "- Расширение партнёрства с Metro Cash & Carry. [vc.ru][metro_vc], [retail.ru][metro_retail]  \n",
    "  Все заказы на доставку с сайта Metro теперь перенаправляются в Instamart.  \n",
    "- Инвестиции от Mail.ru Group и продолжение экспансии в регионы. [vedomosti.ru][mail_ru]\n",
    "\n",
    "#### 3. Заметное увеличение объёма заказов в период с сентября по ноябрь 2019\n",
    "- Инвестиции от Сбербанка [vc.ru][sber_invest]\n",
    "- Тестовый запуск СберМаркета в Ростове-на-Дону и Краснодаре. [vc.ru][sbermarket_test]\n",
    "\n",
    "#### 4. Пик роста в ноябре 2019\n",
    "- Переименование Instamart в \"СберМаркет\" [vc.ru][rebrending]  \n",
    "  Такое событие наверняка сопровождалось масштабной рекламной кампанией\n",
    "\n",
    "#### 5. Просадка в декабре 2019\n",
    "- Скорее всего произошёл откат к стабильным значениям после рекламной кампании\n",
    "\n",
    "\n",
    "### Выводы\n",
    "- Стабильный рост числа заказов обеспечен экспансией в регионы\n",
    "- Партнёрство с известными компаниями приводит к расширению аудитории потенциальных пользователей \n",
    "\n",
    "[kazan]: https://www.vedomosti.ru/business/articles/2018/07/31/776990-instamart\n",
    "[metro_vc]: https://vc.ru/trade/59574-metro-zapustila-internet-magazin-s-dostavkoy-na-dom-cherez-instamart\n",
    "[metro_retail]: https://www.retail.ru/news/metro-i-instamart-rasshiryayut-strategicheskoe-partnerstvo/\n",
    "[mail_ru]: https://www.vedomosti.ru/business/articles/2019/04/01/797979-instamart-privlek\n",
    "[sber_invest]: https://vc.ru/finance/79124-fond-s-investiciyami-ot-sberbanka-stal-akcionerom-servisa-dostavki-produktov-instamart-vmesto-lva-hasisa\n",
    "[sbermarket_test]: https://vc.ru/trade/82040-sberbank-zapustil-testirovanie-servisa-dostavki-produktov-iz-magazinov-sbermarket\n",
    "[rebrending]: https://vc.ru/trade/92492-servis-dostavki-produktov-iz-magazinov-instamart-smenit-nazvanie-na-sbermarket"
   ]
  },
  {
   "cell_type": "markdown",
   "id": "e783c1af",
   "metadata": {},
   "source": [
    "---"
   ]
  },
  {
   "cell_type": "markdown",
   "id": "f54e7527",
   "metadata": {},
   "source": [
    "## Анализ сезонности внутри дня / недели"
   ]
  },
  {
   "cell_type": "markdown",
   "id": "ba4c3c3a",
   "metadata": {},
   "source": [
    "### Посмотрим на график интенсивности создания заявок в течении дня"
   ]
  },
  {
   "cell_type": "code",
   "execution_count": 8,
   "id": "716adc41",
   "metadata": {},
   "outputs": [],
   "source": [
    "query = '''\n",
    "SELECT TO_CHAR(created_at, 'HH24') AS hours,\n",
    "       COUNT(*) AS orders_rate\n",
    "  FROM orders\n",
    " GROUP BY hours\n",
    " ORDER BY hours\n",
    "'''\n",
    "df = pd.read_sql(query, db)"
   ]
  },
  {
   "cell_type": "code",
   "execution_count": 9,
   "id": "100c41de",
   "metadata": {
    "scrolled": false
   },
   "outputs": [
    {
     "data": {
      "text/plain": [
       "<AxesSubplot:xlabel='hours', ylabel='orders'>"
      ]
     },
     "execution_count": 9,
     "metadata": {},
     "output_type": "execute_result"
    },
    {
     "data": {
      "image/png": "[encoded data removed]",
      "text/plain": [
       "<Figure size 720x288 with 1 Axes>"
      ]
     },
     "metadata": {
      "needs_background": "light"
     },
     "output_type": "display_data"
    }
   ],
   "source": [
    "df.plot('hours', 'orders_rate', kind='bar', figsize=(10,4), legend=False, rot=0, ylabel='orders')"
   ]
  },
  {
   "cell_type": "markdown",
   "id": "d5652896",
   "metadata": {},
   "source": [
    "Наблюдается рост заказов в период с 6 до 15 часов.  \n",
    "_(Напоминает легендарного удава, который проглотил слона: [pic])_\n",
    "\n",
    "#### Теперь посмотрим на распределение частоты выбора интервалов времени доставки:\n",
    "\n",
    "\n",
    "[pic]: https://avatars.mds.yandex.net/get-zen_doc/1542444/pub_5c6f94964f807500aeb4541a_5c6fd4cc0708ca00c1d488fe/scale_1200"
   ]
  },
  {
   "cell_type": "code",
   "execution_count": 10,
   "id": "f414ae61",
   "metadata": {},
   "outputs": [],
   "source": [
    "query = '''\n",
    "SELECT EXTRACT(HOURS FROM starts_at) AS hours,\n",
    "       COUNT(*) AS rate\n",
    "  FROM delivery_windows\n",
    " GROUP BY hours\n",
    " ORDER BY hours\n",
    "'''\n",
    "df = pd.read_sql(query, db)"
   ]
  },
  {
   "cell_type": "code",
   "execution_count": 11,
   "id": "d4f68de6",
   "metadata": {
    "scrolled": true
   },
   "outputs": [
    {
     "data": {
      "text/plain": [
       "<AxesSubplot:xlabel='hours'>"
      ]
     },
     "execution_count": 11,
     "metadata": {},
     "output_type": "execute_result"
    },
    {
     "data": {
      "image/png": "[encoded data removed]",
      "text/plain": [
       "<Figure size 1008x288 with 1 Axes>"
      ]
     },
     "metadata": {
      "needs_background": "light"
     },
     "output_type": "display_data"
    }
   ],
   "source": [
    "df.plot('hours', 'rate', kind='bar', figsize=(14,4), legend=False, rot=0)"
   ]
  },
  {
   "cell_type": "markdown",
   "id": "9823021f",
   "metadata": {},
   "source": [
    "Видим относительно равномерное распределение временных интервалов в течении рабочего дня.\n",
    "\n",
    "Учитывая, что самая ранняя доставка возможна с 6 утра, а первое окно начинается в 3 ночи,  \n",
    "можно сделать вывод о том, что время в таблице хранится относительно одного часового пояса.  \n",
    "\n",
    "Этим можно объяснить аномальный рост заказов в первой половине дня и просадку в вечерних интервалах доставки:  \n",
    "Заказы из городов с одним часовым поясом накладываются на заказы с более поздним часовым поясом и получается такой горб."
   ]
  },
  {
   "cell_type": "markdown",
   "id": "5f27bd26",
   "metadata": {},
   "source": [
    "### Проверим, есть ли сезонность внутри недели:"
   ]
  },
  {
   "cell_type": "code",
   "execution_count": 12,
   "id": "1522e5e3",
   "metadata": {},
   "outputs": [],
   "source": [
    "query = '''\n",
    "SELECT TO_CHAR(created_at, 'ID Day') AS day_of_week,\n",
    "       COUNT(*) AS count\n",
    "  FROM orders\n",
    " GROUP BY day_of_week\n",
    " ORDER BY day_of_week\n",
    "'''\n",
    "df = pd.read_sql(query, db)"
   ]
  },
  {
   "cell_type": "code",
   "execution_count": 13,
   "id": "c774699a",
   "metadata": {
    "scrolled": false
   },
   "outputs": [
    {
     "data": {
      "text/plain": [
       "<AxesSubplot:>"
      ]
     },
     "execution_count": 13,
     "metadata": {},
     "output_type": "execute_result"
    },
    {
     "data": {
      "image/png": "[encoded data removed]",
      "text/plain": [
       "<Figure size 864x216 with 1 Axes>"
      ]
     },
     "metadata": {
      "needs_background": "light"
     },
     "output_type": "display_data"
    }
   ],
   "source": [
    "df.plot('day_of_week', 'count', kind='bar', figsize=(12,3), legend=False, rot=0, xlabel='')"
   ]
  },
  {
   "cell_type": "markdown",
   "id": "2ff54834",
   "metadata": {},
   "source": [
    "Равномерное распределение значений.  \n",
    "Сезонность не наблюдается."
   ]
  },
  {
   "cell_type": "markdown",
   "id": "f77c5bdc",
   "metadata": {},
   "source": [
    "### Выводы\n",
    "- Сезонность заказов внутри дня соответствует,  \n",
    "  а рост заказов в дневное время обусловлен нахождением городов в разных часовых поясах.\n",
    "- Сезонность внутри недели отсутствует"
   ]
  },
  {
   "cell_type": "markdown",
   "id": "7a856478",
   "metadata": {},
   "source": [
    "---"
   ]
  },
  {
   "cell_type": "markdown",
   "id": "09840414",
   "metadata": {},
   "source": [
    "## Анализ частоты повторных заказов"
   ]
  },
  {
   "cell_type": "markdown",
   "id": "765f1a15",
   "metadata": {},
   "source": [
    "### Посмотрим, с каким интервалом пользователи чаще всего делают повторный заказ:  \n",
    "(Выборку ограничим 37 днями)"
   ]
  },
  {
   "cell_type": "code",
   "execution_count": 14,
   "id": "cdb95c6d",
   "metadata": {},
   "outputs": [],
   "source": [
    "query = '''\n",
    "  WITH orders_delay AS (\n",
    "      SELECT user_id,\n",
    "             ROUND(EXTRACT(\n",
    "                           EPOCH FROM created_at - LAG(created_at)\n",
    "                                                   OVER (PARTITION BY user_id\n",
    "                                                       ORDER BY created_at)\n",
    "                       ) / 3600 / 24) AS days_gap\n",
    "\n",
    "        FROM orders)\n",
    "\n",
    "SELECT days_gap,\n",
    "       COUNT(*) AS amount\n",
    "  FROM orders_delay\n",
    " WHERE days_gap <= 37\n",
    " GROUP BY days_gap\n",
    " ORDER BY days_gap\n",
    "'''\n",
    "df = pd.read_sql(query, db)"
   ]
  },
  {
   "cell_type": "code",
   "execution_count": 15,
   "id": "e9a2f197",
   "metadata": {
    "scrolled": true
   },
   "outputs": [
    {
     "data": {
      "text/plain": [
       "<AxesSubplot:xlabel='days_gap', ylabel='orders'>"
      ]
     },
     "execution_count": 15,
     "metadata": {},
     "output_type": "execute_result"
    },
    {
     "data": {
      "image/png": "[encoded data removed]",
      "text/plain": [
       "<Figure size 864x360 with 1 Axes>"
      ]
     },
     "metadata": {
      "needs_background": "light"
     },
     "output_type": "display_data"
    }
   ],
   "source": [
    "df.plot('days_gap', 'amount', figsize=(12,5), legend=False, ylabel='orders')"
   ]
  },
  {
   "cell_type": "code",
   "execution_count": 16,
   "id": "92b0a11e",
   "metadata": {
    "scrolled": false
   },
   "outputs": [
    {
     "data": {
      "text/html": [
       "<div>\n",
       "<style scoped>\n",
       "    .dataframe tbody tr th:only-of-type {\n",
       "        vertical-align: middle;\n",
       "    }\n",
       "\n",
       "    .dataframe tbody tr th {\n",
       "        vertical-align: top;\n",
       "    }\n",
       "\n",
       "    .dataframe thead th {\n",
       "        text-align: right;\n",
       "    }\n",
       "</style>\n",
       "<table border=\"1\" class=\"dataframe\">\n",
       "  <thead>\n",
       "    <tr style=\"text-align: right;\">\n",
       "      <th></th>\n",
       "      <th>days_gap</th>\n",
       "      <th>amount</th>\n",
       "    </tr>\n",
       "  </thead>\n",
       "  <tbody>\n",
       "    <tr>\n",
       "      <th>7</th>\n",
       "      <td>7.0</td>\n",
       "      <td>29765</td>\n",
       "    </tr>\n",
       "    <tr>\n",
       "      <th>6</th>\n",
       "      <td>6.0</td>\n",
       "      <td>25896</td>\n",
       "    </tr>\n",
       "    <tr>\n",
       "      <th>5</th>\n",
       "      <td>5.0</td>\n",
       "      <td>23344</td>\n",
       "    </tr>\n",
       "  </tbody>\n",
       "</table>\n",
       "</div>"
      ],
      "text/plain": [
       "   days_gap  amount\n",
       "7       7.0   29765\n",
       "6       6.0   25896\n",
       "5       5.0   23344"
      ]
     },
     "execution_count": 16,
     "metadata": {},
     "output_type": "execute_result"
    }
   ],
   "source": [
    "top_3 = df['amount'].sort_values(ascending=False).head(3)\n",
    "df[df['amount'].isin(top_3)].sort_values('amount', ascending=False)"
   ]
  },
  {
   "cell_type": "markdown",
   "id": "4a663eba",
   "metadata": {},
   "source": [
    "Как видим, наибольшее количество повторных заказов приходится на первые 10 дней с пиком в 7-ой день\n",
    "\n",
    "Также можно заметить **волнообразность** графика - повторяющиеся возрастания значений относительно предыдущих, начиная с 7-го дня.  \n",
    "\n",
    "### Найдём пики этих колебаний:"
   ]
  },
  {
   "cell_type": "code",
   "execution_count": 17,
   "id": "eae3560f",
   "metadata": {
    "scrolled": false
   },
   "outputs": [
    {
     "data": {
      "text/plain": [
       "<AxesSubplot:xlabel='days_gap', ylabel='orders'>"
      ]
     },
     "execution_count": 17,
     "metadata": {},
     "output_type": "execute_result"
    },
    {
     "data": {
      "image/png": "[encoded data removed]",
      "text/plain": [
       "<Figure size 432x288 with 1 Axes>"
      ]
     },
     "metadata": {
      "needs_background": "light"
     },
     "output_type": "display_data"
    }
   ],
   "source": [
    "gap_peaks = df[(df.days_gap >= 7) \n",
    "               & (df.amount.diff() > 0)\n",
    "               & (df.amount.diff(periods=-1) > 0)][['days_gap', 'amount']].copy()\n",
    "gap_peaks.plot('days_gap', 'amount', kind='bar', legend=False, ylabel='orders', rot=0)"
   ]
  },
  {
   "cell_type": "markdown",
   "id": "4f12e314",
   "metadata": {},
   "source": [
    "Судя по графику, на каждый 7-ой день приходится относительный рост числа повторных заказов.\n",
    "\n",
    "Учитывая, что недельная сезонность отсутствует - это довольно занимательный факт.  \n",
    "Возможно, это связано с периодичностью пуш-уведомлений с предложением воспользоваться сервисом ещё раз.  \n",
    "\n",
    "### Предположим, что так оно и есть, и оценим эффективность таких уведомлений:"
   ]
  },
  {
   "cell_type": "markdown",
   "id": "ed89155a",
   "metadata": {},
   "source": [
    "Для начала сымитируем отсутствие скачков каждые 7 дней.  \n",
    "Найдём для них среднее значение между двумя предыдущими и двумя последующими днями:"
   ]
  },
  {
   "cell_type": "code",
   "execution_count": 18,
   "id": "e85b64e0",
   "metadata": {
    "scrolled": false
   },
   "outputs": [
    {
     "data": {
      "text/plain": [
       "<AxesSubplot:xlabel='days_gap', ylabel='orders'>"
      ]
     },
     "execution_count": 18,
     "metadata": {},
     "output_type": "execute_result"
    },
    {
     "data": {
      "image/png": "[encoded data removed]",
      "text/plain": [
       "<Figure size 864x360 with 1 Axes>"
      ]
     },
     "metadata": {
      "needs_background": "light"
     },
     "output_type": "display_data"
    }
   ],
   "source": [
    "df['smooth_amount'] = df.amount.combine((df.amount.shift(2) + df.amount.shift(-2)) / 2, min)\n",
    "\n",
    "df.plot('days_gap', ['smooth_amount', 'amount'], figsize=(12,5), ylabel='orders')"
   ]
  },
  {
   "cell_type": "markdown",
   "id": "c5a9479a",
   "metadata": {},
   "source": [
    "Перенесём полученные усреднённые значения в таблицу с пиками колебаний:"
   ]
  },
  {
   "cell_type": "code",
   "execution_count": 19,
   "id": "cef15c3f",
   "metadata": {
    "scrolled": true
   },
   "outputs": [
    {
     "data": {
      "text/plain": [
       "<AxesSubplot:xlabel='days_gap', ylabel='orders'>"
      ]
     },
     "execution_count": 19,
     "metadata": {},
     "output_type": "execute_result"
    },
    {
     "data": {
      "image/png": "[encoded data removed]",
      "text/plain": [
       "<Figure size 432x288 with 1 Axes>"
      ]
     },
     "metadata": {
      "needs_background": "light"
     },
     "output_type": "display_data"
    }
   ],
   "source": [
    "gap_peaks['smooth_amount'] = df.loc[gap_peaks.days_gap, 'smooth_amount']\n",
    "gap_peaks.plot('days_gap', ['amount', 'smooth_amount'], kind='bar', ylabel='orders', xlabel='days_gap', rot=0)"
   ]
  },
  {
   "cell_type": "markdown",
   "id": "ea5e4677",
   "metadata": {},
   "source": [
    "Сделаем допущение, что пик в 7-й день - это естественное поведение пользователей, и не будем учитывать его в расчетах.  \n",
    "Найдём процент прироста заказов по каждому дню:"
   ]
  },
  {
   "cell_type": "code",
   "execution_count": 20,
   "id": "7a98df5a",
   "metadata": {
    "scrolled": true
   },
   "outputs": [
    {
     "data": {
      "text/plain": [
       "<AxesSubplot:xlabel='days_gap', ylabel='%'>"
      ]
     },
     "execution_count": 20,
     "metadata": {},
     "output_type": "execute_result"
    },
    {
     "data": {
      "image/png": "[encoded data removed]",
      "text/plain": [
       "<Figure size 432x288 with 1 Axes>"
      ]
     },
     "metadata": {
      "needs_background": "light"
     },
     "output_type": "display_data"
    }
   ],
   "source": [
    "gap_peaks.drop(7, inplace=True)\n",
    "gap_peaks['increase_rate'] = (gap_peaks.amount / gap_peaks.smooth_amount - 1) * 100\n",
    "gap_peaks.increase_rate.plot(kind='bar', ylabel='%', xlabel='days_gap', rot=0, grid=True)"
   ]
  },
  {
   "cell_type": "markdown",
   "id": "9ad36e03",
   "metadata": {},
   "source": [
    "Найдём среднее процентов эффективности:"
   ]
  },
  {
   "cell_type": "code",
   "execution_count": 21,
   "id": "2efaee62",
   "metadata": {
    "scrolled": true
   },
   "outputs": [
    {
     "data": {
      "text/plain": [
       "22.5"
      ]
     },
     "execution_count": 21,
     "metadata": {},
     "output_type": "execute_result"
    }
   ],
   "source": [
    "m = gap_peaks.increase_rate.mean()\n",
    "round(m, 1)"
   ]
  },
  {
   "cell_type": "markdown",
   "id": "015cd8c4",
   "metadata": {},
   "source": [
    "### Выводы\n",
    "- Наибольшее количество повторных заказов приходится на первые 10 дней с пиком в 7-ой день  \n",
    "- С периодичностью в 7 дней происходит относительный рост частоты повторных заказов  \n",
    "- Средний прирост заказов в эти дни составляет 22.5% относительно ожидаемых значений"
   ]
  },
  {
   "cell_type": "markdown",
   "id": "ab0cd209",
   "metadata": {},
   "source": [
    "---"
   ]
  },
  {
   "cell_type": "markdown",
   "id": "2687f80d",
   "metadata": {},
   "source": [
    "## Аномалии в данных"
   ]
  },
  {
   "cell_type": "markdown",
   "id": "d9e6cd5d",
   "metadata": {},
   "source": [
    "### Заказы с нулевым количеством позиций (total_quantity): 26 записей"
   ]
  },
  {
   "cell_type": "code",
   "execution_count": 22,
   "id": "c157a395",
   "metadata": {
    "scrolled": true
   },
   "outputs": [
    {
     "data": {
      "text/html": [
       "<div>\n",
       "<style scoped>\n",
       "    .dataframe tbody tr th:only-of-type {\n",
       "        vertical-align: middle;\n",
       "    }\n",
       "\n",
       "    .dataframe tbody tr th {\n",
       "        vertical-align: top;\n",
       "    }\n",
       "\n",
       "    .dataframe thead th {\n",
       "        text-align: right;\n",
       "    }\n",
       "</style>\n",
       "<table border=\"1\" class=\"dataframe\">\n",
       "  <thead>\n",
       "    <tr style=\"text-align: right;\">\n",
       "      <th></th>\n",
       "      <th>id</th>\n",
       "      <th>user_id</th>\n",
       "      <th>total_cost</th>\n",
       "      <th>cost</th>\n",
       "      <th>item_total</th>\n",
       "      <th>promo_total</th>\n",
       "      <th>total_weight</th>\n",
       "      <th>total_quantity</th>\n",
       "      <th>state</th>\n",
       "      <th>shipped_at</th>\n",
       "      <th>created_at</th>\n",
       "      <th>ship_address_id</th>\n",
       "      <th>store_id</th>\n",
       "      <th>delivery_window_id</th>\n",
       "    </tr>\n",
       "  </thead>\n",
       "  <tbody>\n",
       "    <tr>\n",
       "      <th>0</th>\n",
       "      <td>2448854</td>\n",
       "      <td>416726</td>\n",
       "      <td>0.0</td>\n",
       "      <td>0.0</td>\n",
       "      <td>828</td>\n",
       "      <td>0.0</td>\n",
       "      <td>0</td>\n",
       "      <td>0</td>\n",
       "      <td>shipped</td>\n",
       "      <td>2019-09-24 10:47:04</td>\n",
       "      <td>2019-09-23 15:44:52</td>\n",
       "      <td>3502543</td>\n",
       "      <td>1</td>\n",
       "      <td>732746</td>\n",
       "    </tr>\n",
       "    <tr>\n",
       "      <th>1</th>\n",
       "      <td>3647822</td>\n",
       "      <td>1356962</td>\n",
       "      <td>299.0</td>\n",
       "      <td>299.0</td>\n",
       "      <td>419</td>\n",
       "      <td>0.0</td>\n",
       "      <td>0</td>\n",
       "      <td>0</td>\n",
       "      <td>shipped</td>\n",
       "      <td>2019-11-09 17:09:15</td>\n",
       "      <td>2019-11-06 16:32:52</td>\n",
       "      <td>5016159</td>\n",
       "      <td>1</td>\n",
       "      <td>846421</td>\n",
       "    </tr>\n",
       "    <tr>\n",
       "      <th>2</th>\n",
       "      <td>3716542</td>\n",
       "      <td>1226832</td>\n",
       "      <td>158.0</td>\n",
       "      <td>199.0</td>\n",
       "      <td>1116</td>\n",
       "      <td>0.0</td>\n",
       "      <td>0</td>\n",
       "      <td>0</td>\n",
       "      <td>shipped</td>\n",
       "      <td>2019-11-08 17:54:58</td>\n",
       "      <td>2019-11-07 14:41:16</td>\n",
       "      <td>4515332</td>\n",
       "      <td>1</td>\n",
       "      <td>843901</td>\n",
       "    </tr>\n",
       "    <tr>\n",
       "      <th>3</th>\n",
       "      <td>2096518</td>\n",
       "      <td>770814</td>\n",
       "      <td>0.0</td>\n",
       "      <td>299.0</td>\n",
       "      <td>745</td>\n",
       "      <td>0.0</td>\n",
       "      <td>0</td>\n",
       "      <td>0</td>\n",
       "      <td>shipped</td>\n",
       "      <td>2019-08-31 15:44:04</td>\n",
       "      <td>2019-08-25 17:07:55</td>\n",
       "      <td>2942122</td>\n",
       "      <td>3</td>\n",
       "      <td>686728</td>\n",
       "    </tr>\n",
       "    <tr>\n",
       "      <th>4</th>\n",
       "      <td>840797</td>\n",
       "      <td>162644</td>\n",
       "      <td>0.0</td>\n",
       "      <td>0.0</td>\n",
       "      <td>710</td>\n",
       "      <td>0.0</td>\n",
       "      <td>0</td>\n",
       "      <td>0</td>\n",
       "      <td>shipped</td>\n",
       "      <td>2018-10-11 06:21:01</td>\n",
       "      <td>2018-10-08 18:25:38</td>\n",
       "      <td>1036194</td>\n",
       "      <td>3</td>\n",
       "      <td>272184</td>\n",
       "    </tr>\n",
       "  </tbody>\n",
       "</table>\n",
       "</div>"
      ],
      "text/plain": [
       "        id  user_id  total_cost   cost  item_total  promo_total  total_weight  \\\n",
       "0  2448854   416726         0.0    0.0         828          0.0             0   \n",
       "1  3647822  1356962       299.0  299.0         419          0.0             0   \n",
       "2  3716542  1226832       158.0  199.0        1116          0.0             0   \n",
       "3  2096518   770814         0.0  299.0         745          0.0             0   \n",
       "4   840797   162644         0.0    0.0         710          0.0             0   \n",
       "\n",
       "   total_quantity    state          shipped_at          created_at  \\\n",
       "0               0  shipped 2019-09-24 10:47:04 2019-09-23 15:44:52   \n",
       "1               0  shipped 2019-11-09 17:09:15 2019-11-06 16:32:52   \n",
       "2               0  shipped 2019-11-08 17:54:58 2019-11-07 14:41:16   \n",
       "3               0  shipped 2019-08-31 15:44:04 2019-08-25 17:07:55   \n",
       "4               0  shipped 2018-10-11 06:21:01 2018-10-08 18:25:38   \n",
       "\n",
       "   ship_address_id  store_id  delivery_window_id  \n",
       "0          3502543         1              732746  \n",
       "1          5016159         1              846421  \n",
       "2          4515332         1              843901  \n",
       "3          2942122         3              686728  \n",
       "4          1036194         3              272184  "
      ]
     },
     "execution_count": 22,
     "metadata": {},
     "output_type": "execute_result"
    }
   ],
   "source": [
    "query = '''\n",
    "SELECT *\n",
    "  FROM orders\n",
    " WHERE total_quantity = 0\n",
    "'''\n",
    "df = pd.read_sql(query, db)\n",
    "df.head()"
   ]
  },
  {
   "cell_type": "markdown",
   "id": "763bb215",
   "metadata": {},
   "source": [
    "Распределение по дате:"
   ]
  },
  {
   "cell_type": "code",
   "execution_count": 23,
   "id": "0e8cdab5",
   "metadata": {
    "scrolled": false
   },
   "outputs": [
    {
     "data": {
      "text/plain": [
       "<AxesSubplot:ylabel='rate'>"
      ]
     },
     "execution_count": 23,
     "metadata": {},
     "output_type": "execute_result"
    },
    {
     "data": {
      "image/png": "[encoded data removed]",
      "text/plain": [
       "<Figure size 1152x360 with 1 Axes>"
      ]
     },
     "metadata": {
      "needs_background": "light"
     },
     "output_type": "display_data"
    }
   ],
   "source": [
    "df.groupby([df['created_at'].dt.year, \n",
    "            df['created_at'].dt.month]).id.count().plot(kind='bar', figsize=(16,5), \n",
    "                                                        xlabel='', ylabel='rate', rot=0)"
   ]
  },
  {
   "cell_type": "code",
   "execution_count": 24,
   "id": "9aa69286",
   "metadata": {},
   "outputs": [
    {
     "data": {
      "text/plain": [
       "26"
      ]
     },
     "execution_count": 24,
     "metadata": {},
     "output_type": "execute_result"
    }
   ],
   "source": [
    "df.id.count()"
   ]
  },
  {
   "cell_type": "markdown",
   "id": "d20fd3c8",
   "metadata": {},
   "source": [
    "Из них отменённых заказов - 16:"
   ]
  },
  {
   "cell_type": "code",
   "execution_count": 25,
   "id": "0c8275eb",
   "metadata": {
    "scrolled": false
   },
   "outputs": [
    {
     "data": {
      "text/html": [
       "<div>\n",
       "<style scoped>\n",
       "    .dataframe tbody tr th:only-of-type {\n",
       "        vertical-align: middle;\n",
       "    }\n",
       "\n",
       "    .dataframe tbody tr th {\n",
       "        vertical-align: top;\n",
       "    }\n",
       "\n",
       "    .dataframe thead th {\n",
       "        text-align: right;\n",
       "    }\n",
       "</style>\n",
       "<table border=\"1\" class=\"dataframe\">\n",
       "  <thead>\n",
       "    <tr style=\"text-align: right;\">\n",
       "      <th></th>\n",
       "      <th>id</th>\n",
       "      <th>user_id</th>\n",
       "    </tr>\n",
       "  </thead>\n",
       "  <tbody>\n",
       "    <tr>\n",
       "      <th>0</th>\n",
       "      <td>798216</td>\n",
       "      <td>150621</td>\n",
       "    </tr>\n",
       "    <tr>\n",
       "      <th>1</th>\n",
       "      <td>840797</td>\n",
       "      <td>162644</td>\n",
       "    </tr>\n",
       "    <tr>\n",
       "      <th>2</th>\n",
       "      <td>854444</td>\n",
       "      <td>166452</td>\n",
       "    </tr>\n",
       "    <tr>\n",
       "      <th>3</th>\n",
       "      <td>920748</td>\n",
       "      <td>181130</td>\n",
       "    </tr>\n",
       "    <tr>\n",
       "      <th>4</th>\n",
       "      <td>999722</td>\n",
       "      <td>207636</td>\n",
       "    </tr>\n",
       "    <tr>\n",
       "      <th>5</th>\n",
       "      <td>1016662</td>\n",
       "      <td>207482</td>\n",
       "    </tr>\n",
       "    <tr>\n",
       "      <th>6</th>\n",
       "      <td>1018400</td>\n",
       "      <td>212987</td>\n",
       "    </tr>\n",
       "    <tr>\n",
       "      <th>7</th>\n",
       "      <td>1018848</td>\n",
       "      <td>207482</td>\n",
       "    </tr>\n",
       "    <tr>\n",
       "      <th>8</th>\n",
       "      <td>1018850</td>\n",
       "      <td>207482</td>\n",
       "    </tr>\n",
       "    <tr>\n",
       "      <th>9</th>\n",
       "      <td>1026936</td>\n",
       "      <td>215744</td>\n",
       "    </tr>\n",
       "    <tr>\n",
       "      <th>10</th>\n",
       "      <td>1029200</td>\n",
       "      <td>216640</td>\n",
       "    </tr>\n",
       "    <tr>\n",
       "      <th>11</th>\n",
       "      <td>1088547</td>\n",
       "      <td>234096</td>\n",
       "    </tr>\n",
       "    <tr>\n",
       "      <th>12</th>\n",
       "      <td>1157752</td>\n",
       "      <td>255119</td>\n",
       "    </tr>\n",
       "    <tr>\n",
       "      <th>13</th>\n",
       "      <td>1160878</td>\n",
       "      <td>256015</td>\n",
       "    </tr>\n",
       "    <tr>\n",
       "      <th>14</th>\n",
       "      <td>1228949</td>\n",
       "      <td>96623</td>\n",
       "    </tr>\n",
       "    <tr>\n",
       "      <th>15</th>\n",
       "      <td>1645903</td>\n",
       "      <td>248704</td>\n",
       "    </tr>\n",
       "  </tbody>\n",
       "</table>\n",
       "</div>"
      ],
      "text/plain": [
       "         id  user_id\n",
       "0    798216   150621\n",
       "1    840797   162644\n",
       "2    854444   166452\n",
       "3    920748   181130\n",
       "4    999722   207636\n",
       "5   1016662   207482\n",
       "6   1018400   212987\n",
       "7   1018848   207482\n",
       "8   1018850   207482\n",
       "9   1026936   215744\n",
       "10  1029200   216640\n",
       "11  1088547   234096\n",
       "12  1157752   255119\n",
       "13  1160878   256015\n",
       "14  1228949    96623\n",
       "15  1645903   248704"
      ]
     },
     "execution_count": 25,
     "metadata": {},
     "output_type": "execute_result"
    }
   ],
   "source": [
    "query = '''\n",
    "SELECT DISTINCT id, user_id\n",
    "  FROM orders\n",
    "       JOIN cancellations c ON orders.id = c.order_id\n",
    " WHERE total_quantity = 0\n",
    "'''\n",
    "df = pd.read_sql(query, db)\n",
    "df"
   ]
  },
  {
   "cell_type": "markdown",
   "id": "24061dad",
   "metadata": {},
   "source": [
    "Из них - 3 заказа от одного пользователя"
   ]
  },
  {
   "cell_type": "code",
   "execution_count": 26,
   "id": "090b0d12",
   "metadata": {
    "scrolled": true
   },
   "outputs": [
    {
     "data": {
      "text/plain": [
       "user_id\n",
       "207482    3\n",
       "96623     1\n",
       "150621    1\n",
       "162644    1\n",
       "166452    1\n",
       "181130    1\n",
       "207636    1\n",
       "212987    1\n",
       "215744    1\n",
       "216640    1\n",
       "234096    1\n",
       "248704    1\n",
       "255119    1\n",
       "256015    1\n",
       "Name: id, dtype: int64"
      ]
     },
     "execution_count": 26,
     "metadata": {},
     "output_type": "execute_result"
    }
   ],
   "source": [
    "df.groupby('user_id').id.count().sort_values(ascending=False)"
   ]
  },
  {
   "cell_type": "markdown",
   "id": "bb50b460",
   "metadata": {},
   "source": [
    "### Заказы с нулевым весом (total_weight): 340 записей"
   ]
  },
  {
   "cell_type": "code",
   "execution_count": 27,
   "id": "14e3a7aa",
   "metadata": {
    "scrolled": false
   },
   "outputs": [
    {
     "data": {
      "text/html": [
       "<div>\n",
       "<style scoped>\n",
       "    .dataframe tbody tr th:only-of-type {\n",
       "        vertical-align: middle;\n",
       "    }\n",
       "\n",
       "    .dataframe tbody tr th {\n",
       "        vertical-align: top;\n",
       "    }\n",
       "\n",
       "    .dataframe thead th {\n",
       "        text-align: right;\n",
       "    }\n",
       "</style>\n",
       "<table border=\"1\" class=\"dataframe\">\n",
       "  <thead>\n",
       "    <tr style=\"text-align: right;\">\n",
       "      <th></th>\n",
       "      <th>id</th>\n",
       "      <th>user_id</th>\n",
       "      <th>total_cost</th>\n",
       "      <th>cost</th>\n",
       "      <th>item_total</th>\n",
       "      <th>promo_total</th>\n",
       "      <th>total_weight</th>\n",
       "      <th>total_quantity</th>\n",
       "      <th>state</th>\n",
       "      <th>shipped_at</th>\n",
       "      <th>created_at</th>\n",
       "      <th>ship_address_id</th>\n",
       "      <th>store_id</th>\n",
       "      <th>delivery_window_id</th>\n",
       "    </tr>\n",
       "  </thead>\n",
       "  <tbody>\n",
       "    <tr>\n",
       "      <th>0</th>\n",
       "      <td>772241</td>\n",
       "      <td>142609</td>\n",
       "      <td>0.0</td>\n",
       "      <td>0.0</td>\n",
       "      <td>4243</td>\n",
       "      <td>0.0</td>\n",
       "      <td>0</td>\n",
       "      <td>1</td>\n",
       "      <td>shipped</td>\n",
       "      <td>2018-09-04 16:32:18</td>\n",
       "      <td>2018-09-03 07:13:32</td>\n",
       "      <td>907928</td>\n",
       "      <td>1</td>\n",
       "      <td>234086</td>\n",
       "    </tr>\n",
       "    <tr>\n",
       "      <th>1</th>\n",
       "      <td>829404</td>\n",
       "      <td>159337</td>\n",
       "      <td>0.0</td>\n",
       "      <td>0.0</td>\n",
       "      <td>1230</td>\n",
       "      <td>0.0</td>\n",
       "      <td>0</td>\n",
       "      <td>1</td>\n",
       "      <td>shipped</td>\n",
       "      <td>2018-10-03 11:45:53</td>\n",
       "      <td>2018-10-03 06:55:24</td>\n",
       "      <td>1017171</td>\n",
       "      <td>1</td>\n",
       "      <td>258211</td>\n",
       "    </tr>\n",
       "    <tr>\n",
       "      <th>2</th>\n",
       "      <td>848467</td>\n",
       "      <td>164776</td>\n",
       "      <td>0.0</td>\n",
       "      <td>0.0</td>\n",
       "      <td>1638</td>\n",
       "      <td>-300.0</td>\n",
       "      <td>0</td>\n",
       "      <td>2</td>\n",
       "      <td>shipped</td>\n",
       "      <td>2018-10-13 08:32:47</td>\n",
       "      <td>2018-10-13 06:24:08</td>\n",
       "      <td>1049645</td>\n",
       "      <td>1</td>\n",
       "      <td>266769</td>\n",
       "    </tr>\n",
       "    <tr>\n",
       "      <th>3</th>\n",
       "      <td>867576</td>\n",
       "      <td>170085</td>\n",
       "      <td>0.0</td>\n",
       "      <td>299.0</td>\n",
       "      <td>2657</td>\n",
       "      <td>0.0</td>\n",
       "      <td>0</td>\n",
       "      <td>1</td>\n",
       "      <td>shipped</td>\n",
       "      <td>2018-10-24 16:44:35</td>\n",
       "      <td>2018-10-23 05:25:47</td>\n",
       "      <td>1081489</td>\n",
       "      <td>1</td>\n",
       "      <td>276525</td>\n",
       "    </tr>\n",
       "    <tr>\n",
       "      <th>4</th>\n",
       "      <td>872310</td>\n",
       "      <td>167775</td>\n",
       "      <td>199.0</td>\n",
       "      <td>199.0</td>\n",
       "      <td>22674</td>\n",
       "      <td>0.0</td>\n",
       "      <td>0</td>\n",
       "      <td>50</td>\n",
       "      <td>shipped</td>\n",
       "      <td>2018-10-25 20:40:59</td>\n",
       "      <td>2018-10-25 11:06:25</td>\n",
       "      <td>1067987</td>\n",
       "      <td>1</td>\n",
       "      <td>277558</td>\n",
       "    </tr>\n",
       "    <tr>\n",
       "      <th>...</th>\n",
       "      <td>...</td>\n",
       "      <td>...</td>\n",
       "      <td>...</td>\n",
       "      <td>...</td>\n",
       "      <td>...</td>\n",
       "      <td>...</td>\n",
       "      <td>...</td>\n",
       "      <td>...</td>\n",
       "      <td>...</td>\n",
       "      <td>...</td>\n",
       "      <td>...</td>\n",
       "      <td>...</td>\n",
       "      <td>...</td>\n",
       "      <td>...</td>\n",
       "    </tr>\n",
       "    <tr>\n",
       "      <th>335</th>\n",
       "      <td>4636722</td>\n",
       "      <td>56017</td>\n",
       "      <td>99.0</td>\n",
       "      <td>99.0</td>\n",
       "      <td>27598</td>\n",
       "      <td>0.0</td>\n",
       "      <td>0</td>\n",
       "      <td>97</td>\n",
       "      <td>shipped</td>\n",
       "      <td>2019-12-05 11:34:04</td>\n",
       "      <td>2019-11-29 07:12:26</td>\n",
       "      <td>6123036</td>\n",
       "      <td>162</td>\n",
       "      <td>922564</td>\n",
       "    </tr>\n",
       "    <tr>\n",
       "      <th>336</th>\n",
       "      <td>4612438</td>\n",
       "      <td>56017</td>\n",
       "      <td>199.0</td>\n",
       "      <td>199.0</td>\n",
       "      <td>3622</td>\n",
       "      <td>0.0</td>\n",
       "      <td>0</td>\n",
       "      <td>29</td>\n",
       "      <td>shipped</td>\n",
       "      <td>2019-11-28 14:16:34</td>\n",
       "      <td>2019-11-28 13:45:17</td>\n",
       "      <td>6084139</td>\n",
       "      <td>163</td>\n",
       "      <td>900668</td>\n",
       "    </tr>\n",
       "    <tr>\n",
       "      <th>337</th>\n",
       "      <td>5324107</td>\n",
       "      <td>1578435</td>\n",
       "      <td>158.0</td>\n",
       "      <td>238.0</td>\n",
       "      <td>2269</td>\n",
       "      <td>0.0</td>\n",
       "      <td>0</td>\n",
       "      <td>20</td>\n",
       "      <td>shipped</td>\n",
       "      <td>2019-12-16 09:44:49</td>\n",
       "      <td>2019-12-15 16:29:01</td>\n",
       "      <td>6999152</td>\n",
       "      <td>259</td>\n",
       "      <td>965693</td>\n",
       "    </tr>\n",
       "    <tr>\n",
       "      <th>338</th>\n",
       "      <td>1217533</td>\n",
       "      <td>272363</td>\n",
       "      <td>0.0</td>\n",
       "      <td>0.0</td>\n",
       "      <td>5316</td>\n",
       "      <td>-250.0</td>\n",
       "      <td>0</td>\n",
       "      <td>1</td>\n",
       "      <td>shipped</td>\n",
       "      <td>2019-03-20 06:04:55</td>\n",
       "      <td>2019-03-19 15:03:47</td>\n",
       "      <td>1641627</td>\n",
       "      <td>108</td>\n",
       "      <td>439008</td>\n",
       "    </tr>\n",
       "    <tr>\n",
       "      <th>339</th>\n",
       "      <td>3729112</td>\n",
       "      <td>1379137</td>\n",
       "      <td>99.0</td>\n",
       "      <td>199.0</td>\n",
       "      <td>635</td>\n",
       "      <td>0.0</td>\n",
       "      <td>0</td>\n",
       "      <td>0</td>\n",
       "      <td>shipped</td>\n",
       "      <td>2019-11-08 07:35:25</td>\n",
       "      <td>2019-11-07 16:41:45</td>\n",
       "      <td>5100249</td>\n",
       "      <td>170</td>\n",
       "      <td>846211</td>\n",
       "    </tr>\n",
       "  </tbody>\n",
       "</table>\n",
       "<p>340 rows × 14 columns</p>\n",
       "</div>"
      ],
      "text/plain": [
       "          id  user_id  total_cost   cost  item_total  promo_total  \\\n",
       "0     772241   142609         0.0    0.0        4243          0.0   \n",
       "1     829404   159337         0.0    0.0        1230          0.0   \n",
       "2     848467   164776         0.0    0.0        1638       -300.0   \n",
       "3     867576   170085         0.0  299.0        2657          0.0   \n",
       "4     872310   167775       199.0  199.0       22674          0.0   \n",
       "..       ...      ...         ...    ...         ...          ...   \n",
       "335  4636722    56017        99.0   99.0       27598          0.0   \n",
       "336  4612438    56017       199.0  199.0        3622          0.0   \n",
       "337  5324107  1578435       158.0  238.0        2269          0.0   \n",
       "338  1217533   272363         0.0    0.0        5316       -250.0   \n",
       "339  3729112  1379137        99.0  199.0         635          0.0   \n",
       "\n",
       "     total_weight  total_quantity    state          shipped_at  \\\n",
       "0               0               1  shipped 2018-09-04 16:32:18   \n",
       "1               0               1  shipped 2018-10-03 11:45:53   \n",
       "2               0               2  shipped 2018-10-13 08:32:47   \n",
       "3               0               1  shipped 2018-10-24 16:44:35   \n",
       "4               0              50  shipped 2018-10-25 20:40:59   \n",
       "..            ...             ...      ...                 ...   \n",
       "335             0              97  shipped 2019-12-05 11:34:04   \n",
       "336             0              29  shipped 2019-11-28 14:16:34   \n",
       "337             0              20  shipped 2019-12-16 09:44:49   \n",
       "338             0               1  shipped 2019-03-20 06:04:55   \n",
       "339             0               0  shipped 2019-11-08 07:35:25   \n",
       "\n",
       "             created_at  ship_address_id  store_id  delivery_window_id  \n",
       "0   2018-09-03 07:13:32           907928         1              234086  \n",
       "1   2018-10-03 06:55:24          1017171         1              258211  \n",
       "2   2018-10-13 06:24:08          1049645         1              266769  \n",
       "3   2018-10-23 05:25:47          1081489         1              276525  \n",
       "4   2018-10-25 11:06:25          1067987         1              277558  \n",
       "..                  ...              ...       ...                 ...  \n",
       "335 2019-11-29 07:12:26          6123036       162              922564  \n",
       "336 2019-11-28 13:45:17          6084139       163              900668  \n",
       "337 2019-12-15 16:29:01          6999152       259              965693  \n",
       "338 2019-03-19 15:03:47          1641627       108              439008  \n",
       "339 2019-11-07 16:41:45          5100249       170              846211  \n",
       "\n",
       "[340 rows x 14 columns]"
      ]
     },
     "execution_count": 27,
     "metadata": {},
     "output_type": "execute_result"
    }
   ],
   "source": [
    "query = '''\n",
    "SELECT *\n",
    "  FROM orders\n",
    " WHERE total_weight = 0\n",
    "'''\n",
    "df = pd.read_sql(query, db)\n",
    "df"
   ]
  },
  {
   "cell_type": "markdown",
   "id": "744e7cb8",
   "metadata": {},
   "source": [
    "Распределение по пользователям (топ-10):"
   ]
  },
  {
   "cell_type": "code",
   "execution_count": 28,
   "id": "b86bcc82",
   "metadata": {
    "scrolled": false
   },
   "outputs": [
    {
     "data": {
      "text/plain": [
       "<AxesSubplot:xlabel='user_id', ylabel='rate'>"
      ]
     },
     "execution_count": 28,
     "metadata": {},
     "output_type": "execute_result"
    },
    {
     "data": {
      "image/png": "[encoded data removed]",
      "text/plain": [
       "<Figure size 720x288 with 1 Axes>"
      ]
     },
     "metadata": {
      "needs_background": "light"
     },
     "output_type": "display_data"
    }
   ],
   "source": [
    "df.groupby('user_id').id.count().sort_values(ascending=False).head(10).plot(kind='bar', \n",
    "                                                        figsize=(10,4), \n",
    "                                                        xlabel='user_id', ylabel='rate', \n",
    "                                                        grid=True, rot=0)"
   ]
  },
  {
   "cell_type": "markdown",
   "id": "cd3cee30",
   "metadata": {},
   "source": [
    "Распределение по дате:"
   ]
  },
  {
   "cell_type": "code",
   "execution_count": 29,
   "id": "071f17e2",
   "metadata": {
    "scrolled": false
   },
   "outputs": [
    {
     "data": {
      "text/plain": [
       "<AxesSubplot:ylabel='rate'>"
      ]
     },
     "execution_count": 29,
     "metadata": {},
     "output_type": "execute_result"
    },
    {
     "data": {
      "image/png": "[encoded data removed]",
      "text/plain": [
       "<Figure size 1152x360 with 1 Axes>"
      ]
     },
     "metadata": {
      "needs_background": "light"
     },
     "output_type": "display_data"
    }
   ],
   "source": [
    "df.groupby([df['created_at'].dt.year, \n",
    "            df['created_at'].dt.month]).id.count().plot(kind='bar', \n",
    "                                                        figsize=(16,5), \n",
    "                                                        xlabel='', ylabel='rate', \n",
    "                                                        grid=True, rot=45)"
   ]
  },
  {
   "cell_type": "markdown",
   "id": "d0602b4c",
   "metadata": {},
   "source": [
    "### Заказы с нулевой суммой корзины (item_total): 9 записей"
   ]
  },
  {
   "cell_type": "code",
   "execution_count": 30,
   "id": "9ba650a4",
   "metadata": {
    "scrolled": false
   },
   "outputs": [
    {
     "data": {
      "text/html": [
       "<div>\n",
       "<style scoped>\n",
       "    .dataframe tbody tr th:only-of-type {\n",
       "        vertical-align: middle;\n",
       "    }\n",
       "\n",
       "    .dataframe tbody tr th {\n",
       "        vertical-align: top;\n",
       "    }\n",
       "\n",
       "    .dataframe thead th {\n",
       "        text-align: right;\n",
       "    }\n",
       "</style>\n",
       "<table border=\"1\" class=\"dataframe\">\n",
       "  <thead>\n",
       "    <tr style=\"text-align: right;\">\n",
       "      <th></th>\n",
       "      <th>id</th>\n",
       "      <th>user_id</th>\n",
       "      <th>total_cost</th>\n",
       "      <th>cost</th>\n",
       "      <th>item_total</th>\n",
       "      <th>promo_total</th>\n",
       "      <th>total_weight</th>\n",
       "      <th>total_quantity</th>\n",
       "      <th>state</th>\n",
       "      <th>shipped_at</th>\n",
       "      <th>created_at</th>\n",
       "      <th>ship_address_id</th>\n",
       "      <th>store_id</th>\n",
       "      <th>delivery_window_id</th>\n",
       "    </tr>\n",
       "  </thead>\n",
       "  <tbody>\n",
       "    <tr>\n",
       "      <th>0</th>\n",
       "      <td>2457003</td>\n",
       "      <td>777240</td>\n",
       "      <td>0.0</td>\n",
       "      <td>0.0</td>\n",
       "      <td>0</td>\n",
       "      <td>0.0</td>\n",
       "      <td>500</td>\n",
       "      <td>4</td>\n",
       "      <td>shipped</td>\n",
       "      <td>2019-09-24 13:33:58</td>\n",
       "      <td>2019-09-24 10:10:43</td>\n",
       "      <td>3520882</td>\n",
       "      <td>1</td>\n",
       "      <td>732756</td>\n",
       "    </tr>\n",
       "    <tr>\n",
       "      <th>1</th>\n",
       "      <td>2828415</td>\n",
       "      <td>1112015</td>\n",
       "      <td>0.0</td>\n",
       "      <td>299.0</td>\n",
       "      <td>0</td>\n",
       "      <td>0.0</td>\n",
       "      <td>4625</td>\n",
       "      <td>13</td>\n",
       "      <td>shipped</td>\n",
       "      <td>2019-10-20 10:04:05</td>\n",
       "      <td>2019-10-18 20:58:03</td>\n",
       "      <td>4082440</td>\n",
       "      <td>2</td>\n",
       "      <td>796140</td>\n",
       "    </tr>\n",
       "    <tr>\n",
       "      <th>2</th>\n",
       "      <td>1631533</td>\n",
       "      <td>416183</td>\n",
       "      <td>0.0</td>\n",
       "      <td>299.0</td>\n",
       "      <td>0</td>\n",
       "      <td>0.0</td>\n",
       "      <td>18000</td>\n",
       "      <td>18</td>\n",
       "      <td>shipped</td>\n",
       "      <td>2019-06-21 14:17:06</td>\n",
       "      <td>2019-06-21 09:52:24</td>\n",
       "      <td>2213321</td>\n",
       "      <td>3</td>\n",
       "      <td>561538</td>\n",
       "    </tr>\n",
       "    <tr>\n",
       "      <th>3</th>\n",
       "      <td>5126949</td>\n",
       "      <td>1758530</td>\n",
       "      <td>98.0</td>\n",
       "      <td>249.0</td>\n",
       "      <td>0</td>\n",
       "      <td>-199.0</td>\n",
       "      <td>10950</td>\n",
       "      <td>11</td>\n",
       "      <td>shipped</td>\n",
       "      <td>2019-12-11 05:46:06</td>\n",
       "      <td>2019-12-10 20:02:23</td>\n",
       "      <td>6751812</td>\n",
       "      <td>12</td>\n",
       "      <td>943952</td>\n",
       "    </tr>\n",
       "    <tr>\n",
       "      <th>4</th>\n",
       "      <td>881444</td>\n",
       "      <td>173854</td>\n",
       "      <td>0.0</td>\n",
       "      <td>299.0</td>\n",
       "      <td>0</td>\n",
       "      <td>0.0</td>\n",
       "      <td>705</td>\n",
       "      <td>3</td>\n",
       "      <td>shipped</td>\n",
       "      <td>2018-10-30 05:50:49</td>\n",
       "      <td>2018-10-29 16:01:04</td>\n",
       "      <td>1104838</td>\n",
       "      <td>14</td>\n",
       "      <td>282229</td>\n",
       "    </tr>\n",
       "    <tr>\n",
       "      <th>5</th>\n",
       "      <td>3838920</td>\n",
       "      <td>1410293</td>\n",
       "      <td>199.0</td>\n",
       "      <td>199.0</td>\n",
       "      <td>0</td>\n",
       "      <td>0.0</td>\n",
       "      <td>5810</td>\n",
       "      <td>7</td>\n",
       "      <td>shipped</td>\n",
       "      <td>2019-11-11 09:12:57</td>\n",
       "      <td>2019-11-09 07:23:24</td>\n",
       "      <td>5203891</td>\n",
       "      <td>63</td>\n",
       "      <td>852220</td>\n",
       "    </tr>\n",
       "    <tr>\n",
       "      <th>6</th>\n",
       "      <td>1528533</td>\n",
       "      <td>353833</td>\n",
       "      <td>99.0</td>\n",
       "      <td>149.0</td>\n",
       "      <td>0</td>\n",
       "      <td>0.0</td>\n",
       "      <td>3723</td>\n",
       "      <td>16</td>\n",
       "      <td>shipped</td>\n",
       "      <td>2019-06-01 04:41:19</td>\n",
       "      <td>2019-05-30 15:04:09</td>\n",
       "      <td>1772737</td>\n",
       "      <td>108</td>\n",
       "      <td>530572</td>\n",
       "    </tr>\n",
       "    <tr>\n",
       "      <th>7</th>\n",
       "      <td>5004403</td>\n",
       "      <td>1727727</td>\n",
       "      <td>99.0</td>\n",
       "      <td>199.0</td>\n",
       "      <td>0</td>\n",
       "      <td>0.0</td>\n",
       "      <td>11771</td>\n",
       "      <td>18</td>\n",
       "      <td>shipped</td>\n",
       "      <td>2019-12-08 07:51:02</td>\n",
       "      <td>2019-12-08 03:53:15</td>\n",
       "      <td>6378487</td>\n",
       "      <td>169</td>\n",
       "      <td>932160</td>\n",
       "    </tr>\n",
       "    <tr>\n",
       "      <th>8</th>\n",
       "      <td>2094365</td>\n",
       "      <td>674612</td>\n",
       "      <td>0.0</td>\n",
       "      <td>0.0</td>\n",
       "      <td>0</td>\n",
       "      <td>0.0</td>\n",
       "      <td>3385</td>\n",
       "      <td>15</td>\n",
       "      <td>shipped</td>\n",
       "      <td>2019-08-25 17:24:13</td>\n",
       "      <td>2019-08-25 13:26:08</td>\n",
       "      <td>2938463</td>\n",
       "      <td>70</td>\n",
       "      <td>675904</td>\n",
       "    </tr>\n",
       "  </tbody>\n",
       "</table>\n",
       "</div>"
      ],
      "text/plain": [
       "        id  user_id  total_cost   cost  item_total  promo_total  total_weight  \\\n",
       "0  2457003   777240         0.0    0.0           0          0.0           500   \n",
       "1  2828415  1112015         0.0  299.0           0          0.0          4625   \n",
       "2  1631533   416183         0.0  299.0           0          0.0         18000   \n",
       "3  5126949  1758530        98.0  249.0           0       -199.0         10950   \n",
       "4   881444   173854         0.0  299.0           0          0.0           705   \n",
       "5  3838920  1410293       199.0  199.0           0          0.0          5810   \n",
       "6  1528533   353833        99.0  149.0           0          0.0          3723   \n",
       "7  5004403  1727727        99.0  199.0           0          0.0         11771   \n",
       "8  2094365   674612         0.0    0.0           0          0.0          3385   \n",
       "\n",
       "   total_quantity    state          shipped_at          created_at  \\\n",
       "0               4  shipped 2019-09-24 13:33:58 2019-09-24 10:10:43   \n",
       "1              13  shipped 2019-10-20 10:04:05 2019-10-18 20:58:03   \n",
       "2              18  shipped 2019-06-21 14:17:06 2019-06-21 09:52:24   \n",
       "3              11  shipped 2019-12-11 05:46:06 2019-12-10 20:02:23   \n",
       "4               3  shipped 2018-10-30 05:50:49 2018-10-29 16:01:04   \n",
       "5               7  shipped 2019-11-11 09:12:57 2019-11-09 07:23:24   \n",
       "6              16  shipped 2019-06-01 04:41:19 2019-05-30 15:04:09   \n",
       "7              18  shipped 2019-12-08 07:51:02 2019-12-08 03:53:15   \n",
       "8              15  shipped 2019-08-25 17:24:13 2019-08-25 13:26:08   \n",
       "\n",
       "   ship_address_id  store_id  delivery_window_id  \n",
       "0          3520882         1              732756  \n",
       "1          4082440         2              796140  \n",
       "2          2213321         3              561538  \n",
       "3          6751812        12              943952  \n",
       "4          1104838        14              282229  \n",
       "5          5203891        63              852220  \n",
       "6          1772737       108              530572  \n",
       "7          6378487       169              932160  \n",
       "8          2938463        70              675904  "
      ]
     },
     "execution_count": 30,
     "metadata": {},
     "output_type": "execute_result"
    }
   ],
   "source": [
    "query = '''\n",
    "SELECT *\n",
    "  FROM orders\n",
    " WHERE item_total = 0\n",
    "'''\n",
    "df = pd.read_sql(query, db)\n",
    "df"
   ]
  },
  {
   "cell_type": "markdown",
   "id": "d256af88",
   "metadata": {},
   "source": [
    "Проверим на соответствие отменённым заказам:"
   ]
  },
  {
   "cell_type": "code",
   "execution_count": 31,
   "id": "1d19802a",
   "metadata": {
    "scrolled": true
   },
   "outputs": [
    {
     "data": {
      "text/html": [
       "<div>\n",
       "<style scoped>\n",
       "    .dataframe tbody tr th:only-of-type {\n",
       "        vertical-align: middle;\n",
       "    }\n",
       "\n",
       "    .dataframe tbody tr th {\n",
       "        vertical-align: top;\n",
       "    }\n",
       "\n",
       "    .dataframe thead th {\n",
       "        text-align: right;\n",
       "    }\n",
       "</style>\n",
       "<table border=\"1\" class=\"dataframe\">\n",
       "  <thead>\n",
       "    <tr style=\"text-align: right;\">\n",
       "      <th></th>\n",
       "      <th>count</th>\n",
       "    </tr>\n",
       "  </thead>\n",
       "  <tbody>\n",
       "    <tr>\n",
       "      <th>0</th>\n",
       "      <td>6</td>\n",
       "    </tr>\n",
       "  </tbody>\n",
       "</table>\n",
       "</div>"
      ],
      "text/plain": [
       "   count\n",
       "0      6"
      ]
     },
     "execution_count": 31,
     "metadata": {},
     "output_type": "execute_result"
    }
   ],
   "source": [
    "query = '''\n",
    "SELECT COUNT(*)\n",
    "  FROM orders\n",
    "       JOIN (SELECT DISTINCT order_id\n",
    "               FROM cancellations) AS c ON orders.id = c.order_id\n",
    " WHERE item_total = 0\n",
    "\n",
    "'''\n",
    "df = pd.read_sql(query, db)\n",
    "df"
   ]
  },
  {
   "cell_type": "markdown",
   "id": "984236e6",
   "metadata": {},
   "source": [
    "6 из 9.  \n",
    "Тем не менее, в таблице orders эти заказы находятся в статусе 'shipped', что не соответствует действительности."
   ]
  },
  {
   "cell_type": "markdown",
   "id": "8ae96ba2",
   "metadata": {},
   "source": [
    "### Выводы\n",
    "- В данных стабильно присутствуют нулевые значения, которые должны быть больше нуля.  \n",
    "  Возможно, какой-то магазин не поставляет эти параметры.\n",
    "- Наблюдается корелляция нулевых значений по весу и кол-ву товаров в декабре 2018 года,  \n",
    "  что может указывать на временный сбой системы."
   ]
  },
  {
   "cell_type": "markdown",
   "id": "95db63f9",
   "metadata": {},
   "source": [
    "---"
   ]
  },
  {
   "cell_type": "markdown",
   "id": "437feb5e",
   "metadata": {},
   "source": [
    "## Анализ влияния отмен и возвратов на количество постоянных пользователей"
   ]
  },
  {
   "cell_type": "markdown",
   "id": "f99367f6",
   "metadata": {},
   "source": [
    "Найдём долю постоянных пользователей среди всех и долю постоянных пользователей среди тех, кто отменял покупки  \n",
    "и найдем разницу между этими соотношениями.\n",
    "\n",
    "- Ограничим выборку до 6 месяцев (с января по июнь 2019 включительно)\n",
    "- За постоянных пользователей будем считать тех, кто сделал не менее 6 заказов в выбранном интервале"
   ]
  },
  {
   "cell_type": "code",
   "execution_count": 32,
   "id": "681e07f8",
   "metadata": {
    "scrolled": true
   },
   "outputs": [
    {
     "data": {
      "text/html": [
       "<div>\n",
       "<style scoped>\n",
       "    .dataframe tbody tr th:only-of-type {\n",
       "        vertical-align: middle;\n",
       "    }\n",
       "\n",
       "    .dataframe tbody tr th {\n",
       "        vertical-align: top;\n",
       "    }\n",
       "\n",
       "    .dataframe thead th {\n",
       "        text-align: right;\n",
       "    }\n",
       "</style>\n",
       "<table border=\"1\" class=\"dataframe\">\n",
       "  <thead>\n",
       "    <tr style=\"text-align: right;\">\n",
       "      <th></th>\n",
       "      <th>all_users</th>\n",
       "      <th>regular_users</th>\n",
       "      <th>user_with_c</th>\n",
       "      <th>regular_users_with_c</th>\n",
       "    </tr>\n",
       "  </thead>\n",
       "  <tbody>\n",
       "    <tr>\n",
       "      <th>0</th>\n",
       "      <td>148941</td>\n",
       "      <td>5180</td>\n",
       "      <td>83359</td>\n",
       "      <td>2746</td>\n",
       "    </tr>\n",
       "  </tbody>\n",
       "</table>\n",
       "</div>"
      ],
      "text/plain": [
       "   all_users  regular_users  user_with_c  regular_users_with_c\n",
       "0     148941           5180        83359                  2746"
      ]
     },
     "execution_count": 32,
     "metadata": {},
     "output_type": "execute_result"
    }
   ],
   "source": [
    "query = '''\n",
    "  WITH\n",
    "      orders_clamped AS (\n",
    "          SELECT id,\n",
    "                 user_id\n",
    "            FROM orders\n",
    "           WHERE created_at BETWEEN '2019-01-01' AND '2019-07-01'),\n",
    "\n",
    "      orders_with_cancellations AS (\n",
    "          SELECT id, user_id\n",
    "            FROM orders_clamped AS o\n",
    "                 JOIN (SELECT DISTINCT order_id\n",
    "                         FROM cancellations) AS c ON o.id = c.order_id),\n",
    "\n",
    "      regular_users AS (\n",
    "          SELECT user_id,\n",
    "                 COUNT(*) AS amount\n",
    "            FROM orders_clamped\n",
    "           GROUP BY user_id\n",
    "          HAVING COUNT(*) >= 6),\n",
    "\n",
    "      regular_users_with_cancellations AS (\n",
    "          SELECT user_id,\n",
    "                 COUNT(*) AS amount\n",
    "            FROM orders_with_cancellations\n",
    "           GROUP BY user_id\n",
    "          HAVING COUNT(*) >= 6)\n",
    "\n",
    "SELECT (SELECT COUNT(*) FROM orders_clamped) AS all_users,\n",
    "       (SELECT COUNT(*) FROM regular_users) AS regular_users,\n",
    "       (SELECT COUNT(*) FROM orders_with_cancellations) AS user_with_c,\n",
    "       (SELECT COUNT(*) FROM regular_users_with_cancellations) AS regular_users_with_c\n",
    "'''\n",
    "df = pd.read_sql(query, db)\n",
    "df"
   ]
  },
  {
   "cell_type": "markdown",
   "id": "fdc0520c",
   "metadata": {},
   "source": [
    "Найдём соотношение постоянных пользователей ко всей выборке:"
   ]
  },
  {
   "cell_type": "code",
   "execution_count": 33,
   "id": "df2d17f5",
   "metadata": {
    "scrolled": true
   },
   "outputs": [
    {
     "name": "stdout",
     "output_type": "stream",
     "text": [
      "Доля всех постоянных пользователей:3.48%\n",
      "Доля постоянных пользователей с отменами:3.29%\n",
      "Разница: 5.28%\n"
     ]
    }
   ],
   "source": [
    "all_users_ratio = df.regular_users[0] / df.all_users[0] * 100\n",
    "print('Доля всех постоянных пользователей:', round(all_users_ratio, 2), '%', sep= '')\n",
    "\n",
    "users_with_cancelations_ratio = df.regular_users_with_c[0] / df.user_with_c[0] * 100\n",
    "print('Доля постоянных пользователей с отменами:', round(users_with_cancelations_ratio, 2), '%', sep= '')\n",
    "\n",
    "cancelations_diff = (1 - users_with_cancelations_ratio / all_users_ratio) * 100\n",
    "print('Разница: ', round(cancelations_diff, 2), '%', sep= '')"
   ]
  },
  {
   "cell_type": "markdown",
   "id": "9b3ef4f5",
   "metadata": {},
   "source": [
    "#### Разница: 5.28%\n",
    "Проделаем то же самое для пользователей с заменами:"
   ]
  },
  {
   "cell_type": "code",
   "execution_count": 34,
   "id": "897c4044",
   "metadata": {
    "scrolled": true
   },
   "outputs": [
    {
     "data": {
      "text/html": [
       "<div>\n",
       "<style scoped>\n",
       "    .dataframe tbody tr th:only-of-type {\n",
       "        vertical-align: middle;\n",
       "    }\n",
       "\n",
       "    .dataframe tbody tr th {\n",
       "        vertical-align: top;\n",
       "    }\n",
       "\n",
       "    .dataframe thead th {\n",
       "        text-align: right;\n",
       "    }\n",
       "</style>\n",
       "<table border=\"1\" class=\"dataframe\">\n",
       "  <thead>\n",
       "    <tr style=\"text-align: right;\">\n",
       "      <th></th>\n",
       "      <th>user_with_r</th>\n",
       "      <th>regular_users_with_r</th>\n",
       "    </tr>\n",
       "  </thead>\n",
       "  <tbody>\n",
       "    <tr>\n",
       "      <th>0</th>\n",
       "      <td>67570</td>\n",
       "      <td>2214</td>\n",
       "    </tr>\n",
       "  </tbody>\n",
       "</table>\n",
       "</div>"
      ],
      "text/plain": [
       "   user_with_r  regular_users_with_r\n",
       "0        67570                  2214"
      ]
     },
     "execution_count": 34,
     "metadata": {},
     "output_type": "execute_result"
    }
   ],
   "source": [
    "query = '''\n",
    "  WITH\n",
    "      orders_clamped AS (\n",
    "          SELECT id,\n",
    "                 user_id\n",
    "            FROM orders\n",
    "           WHERE created_at BETWEEN '2019-01-01' AND '2019-07-01'),\n",
    "\n",
    "      orders_with_replacements AS (\n",
    "          SELECT id, user_id\n",
    "            FROM orders_clamped AS o\n",
    "                 JOIN (SELECT DISTINCT order_id\n",
    "                         FROM replacements) AS r ON o.id = r.order_id),\n",
    "\n",
    "      regular_users_with_replacements AS (\n",
    "          SELECT user_id,\n",
    "                 COUNT(*) AS amount\n",
    "            FROM orders_with_replacements\n",
    "           GROUP BY user_id\n",
    "          HAVING COUNT(*) > 5)\n",
    "\n",
    "SELECT (SELECT COUNT(*) FROM orders_with_replacements) AS user_with_r,\n",
    "       (SELECT COUNT(*) FROM regular_users_with_replacements) AS regular_users_with_r\n",
    "'''\n",
    "df = pd.read_sql(query, db)\n",
    "df"
   ]
  },
  {
   "cell_type": "markdown",
   "id": "b793042d",
   "metadata": {},
   "source": [
    "Найдём их соотношения:"
   ]
  },
  {
   "cell_type": "code",
   "execution_count": 35,
   "id": "4417eb9e",
   "metadata": {
    "scrolled": false
   },
   "outputs": [
    {
     "name": "stdout",
     "output_type": "stream",
     "text": [
      "Доля всех постоянных пользователей: 3.48%\n",
      "Доля постоянных пользователей с заменами: 3.28%\n",
      "Разница: 5.79%\n"
     ]
    }
   ],
   "source": [
    "print('Доля всех постоянных пользователей: ', round(all_users_ratio, 2), '%', sep= '')\n",
    "\n",
    "users_with_replacements_ratio = df.regular_users_with_r[0] / df.user_with_r[0] * 100\n",
    "print('Доля постоянных пользователей с заменами: ', round(users_with_replacements_ratio, 2), '%', sep= '')\n",
    "\n",
    "replacements_diff = (1 - users_with_replacements_ratio / all_users_ratio) * 100\n",
    "print('Разница: ', round(replacements_diff, 2), '%', sep= '')"
   ]
  },
  {
   "cell_type": "markdown",
   "id": "4c214253",
   "metadata": {},
   "source": [
    "Найдём среднее между двумя разницами:"
   ]
  },
  {
   "cell_type": "code",
   "execution_count": 36,
   "id": "b089d380",
   "metadata": {
    "scrolled": true
   },
   "outputs": [
    {
     "data": {
      "text/plain": [
       "5.53"
      ]
     },
     "execution_count": 36,
     "metadata": {},
     "output_type": "execute_result"
    }
   ],
   "source": [
    "m = np.mean([replacements_diff, cancelations_diff])\n",
    "round(m, 2)"
   ]
  },
  {
   "cell_type": "markdown",
   "id": "4f52223e",
   "metadata": {},
   "source": [
    "### Выводы\n",
    "- Отмены и замены товара **уменьшают** количество постоянных пользователей в среднем **на 5.53%**\n",
    "- Разница между постоянными пользователями с **отменами** и без: **5.28%**\n",
    "- Разница между постоянными пользователями с **заменами** и без: **5.79%**"
   ]
  }
 ],
 "metadata": {
  "kernelspec": {
   "display_name": "Python 3 (ipykernel)",
   "language": "python",
   "name": "python3"
  },
  "language_info": {
   "codemirror_mode": {
    "name": "ipython",
    "version": 3
   },
   "file_extension": ".py",
   "mimetype": "text/x-python",
   "name": "python",
   "nbconvert_exporter": "python",
   "pygments_lexer": "ipython3",
   "version": "3.8.12"
  }
 },
 "nbformat": 4,
 "nbformat_minor": 5
}
